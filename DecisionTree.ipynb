{
  "nbformat": 4,
  "nbformat_minor": 0,
  "metadata": {
    "colab": {
      "name": "DecisionTree.ipynb",
      "provenance": [],
      "authorship_tag": "ABX9TyOjatvQX5Cp7QkKwtjAmG/E",
      "include_colab_link": true
    },
    "kernelspec": {
      "name": "python3",
      "display_name": "Python 3"
    },
    "language_info": {
      "name": "python"
    }
  },
  "cells": [
    {
      "cell_type": "markdown",
      "metadata": {
        "id": "view-in-github",
        "colab_type": "text"
      },
      "source": [
        "<a href=\"https://colab.research.google.com/github/AlfindoRizkiSubekti/DecisionTree-iris.csv-/blob/main/DecisionTree.ipynb\" target=\"_parent\"><img src=\"https://colab.research.google.com/assets/colab-badge.svg\" alt=\"Open In Colab\"/></a>"
      ]
    },
    {
      "cell_type": "code",
      "metadata": {
        "id": "NLBX7cIQqvw7"
      },
      "source": [
        "from sklearn.tree import DecisionTreeClassifier\n",
        "from sklearn import datasets\n",
        "import matplotlib.pyplot as plt"
      ],
      "execution_count": 1,
      "outputs": []
    },
    {
      "cell_type": "code",
      "metadata": {
        "id": "7-BDjkmLrfsv"
      },
      "source": [
        "iris = datasets.load_iris()\n",
        "features = iris['data']\n",
        "target = iris['target']\n"
      ],
      "execution_count": 4,
      "outputs": []
    },
    {
      "cell_type": "code",
      "metadata": {
        "id": "rrmgwIbUt7rQ"
      },
      "source": [
        "decisiontree = DecisionTreeClassifier(random_state=0, max_depth=None,\n",
        "                                      min_samples_split=2, min_samples_leaf=1,\n",
        "                                      min_weight_fraction_leaf=0,\n",
        "                                      max_leaf_nodes=None,\n",
        "                                      min_impurity_decrease=0)"
      ],
      "execution_count": 6,
      "outputs": []
    },
    {
      "cell_type": "code",
      "metadata": {
        "id": "AFu6fLAJvXNQ"
      },
      "source": [
        "#mentraining model>\n",
        "model = decisiontree.fit(features, target)"
      ],
      "execution_count": 7,
      "outputs": []
    },
    {
      "cell_type": "code",
      "metadata": {
        "colab": {
          "base_uri": "https://localhost:8080/"
        },
        "id": "np8mUjEovgqF",
        "outputId": "6c687bcc-6cf1-4b09-cc8d-7d07e0aac38a"
      },
      "source": [
        "#mengambil sempel oberasiv dan membuat prediksi\n",
        "#sempel berupa data dimensi kelompok\n",
        "#fungsi predic() => memriksa kelas yang dimiliki\n",
        "#fungsi predic_promba > memeriksa probabilitas kelas dari prediksi\n",
        "observation = [[5,4,3,2]]\n",
        "model.predict(observation)\n",
        "model.predict_proba(observation)"
      ],
      "execution_count": 8,
      "outputs": [
        {
          "output_type": "execute_result",
          "data": {
            "text/plain": [
              "array([[0., 1., 0.]])"
            ]
          },
          "metadata": {
            "tags": []
          },
          "execution_count": 8
        }
      ]
    },
    {
      "cell_type": "code",
      "metadata": {
        "colab": {
          "base_uri": "https://localhost:8080/"
        },
        "id": "6mcrpfFAwiTS",
        "outputId": "95de4d39-28c4-413e-abac-da923835c2f4"
      },
      "source": [
        "#membuat grafik visualisasi DT\n",
        "import pydotplus\n",
        "from sklearn import tree\n",
        "dot_data = tree.export_graphviz(decisiontree, out_file=None,\n",
        "                                feature_names=iris['feature_names'],\n",
        "                                class_names=iris['target_names'])\n",
        "from IPython.display import Image\n",
        "graph = pydotplus.graph_from_dot_data(dot_data)\n",
        "Image(graph.create_png())\n",
        "graph.write_png('iris.png')"
      ],
      "execution_count": 12,
      "outputs": [
        {
          "output_type": "execute_result",
          "data": {
            "text/plain": [
              "True"
            ]
          },
          "metadata": {
            "tags": []
          },
          "execution_count": 12
        }
      ]
    }
  ]
}